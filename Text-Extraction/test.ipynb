{
 "cells": [
  {
   "cell_type": "code",
   "execution_count": 1,
   "metadata": {},
   "outputs": [],
   "source": [
    "for field in data:\n",
    "    section = data[field]\n",
    "    if (field == \"Abstract\"):\n",
    "      l = section.split('-')\n",
    "      abstract = (l[1]+l[2]+l[3]).strip().split('\\n')\n",
    "      print(l)\n",
    "      print(abstract[0]+abstract[1]+abstract[2])\n",
    "      s= abstract[:-1]\n",
    "      output = []\n",
    "      for grp in s:\n",
    "        output.append(''.join(s))\n",
    "      result_data[\"Abstract\"]=output[0]\n",
    "      result_data[\"Department\"] = section.split('-')[0]\n",
    "    if (field == \"Order ID\"):\n",
    "        li = (section.split('/')[0] + \"_\" + section.split('/')[1]).split('.')\n",
    "        print(li)\n",
    "        result_data[\"Order ID\"]= li[len(li)-1]\n",
    "        lii = section.split(',')\n",
    "        result_data[\"Place\"] = lii[len(lii)-2].strip()\n",
    "        result_data[\"Date\"] = (\"/\".join((lii[len(lii)-1].strip()).split('-')))\n",
    "    if (field == \"Order Issued By\"):\n",
    "        li = section.split('\\n')\n",
    "        result_data[\"Order Issued By\"]= li[0]+\",\" + li[1]\n",
    "    if(field == \"Body Para\"):\n",
    "        li = (\" \".join(section.split('\\n')))\n",
    "        result_data[\"Body\"]=li\n",
    "    if(field == \"References\"):\n",
    "        li = (\" \".join(section.split('\\n')))\n",
    "        result_data[\"References\"]=li"
   ]
  },
  {
   "cell_type": "code",
   "execution_count": 2,
   "metadata": {},
   "outputs": [],
   "source": [
    "input_files = os.listdir(input_files_dir)"
   ]
  },
  {
   "cell_type": "code",
   "execution_count": null,
   "metadata": {},
   "outputs": [],
   "source": []
  }
 ],
 "metadata": {
  "interpreter": {
   "hash": "767d51c1340bd893661ea55ea3124f6de3c7a262a8b4abca0554b478b1e2ff90"
  },
  "kernelspec": {
   "display_name": "Python 3.6.9 64-bit",
   "language": "python",
   "name": "python3"
  },
  "language_info": {
   "codemirror_mode": {
    "name": "ipython",
    "version": 3
   },
   "file_extension": ".py",
   "mimetype": "text/x-python",
   "name": "python",
   "nbconvert_exporter": "python",
   "pygments_lexer": "ipython3",
   "version": "3.8.10"
  },
  "orig_nbformat": 4
 },
 "nbformat": 4,
 "nbformat_minor": 2
}
